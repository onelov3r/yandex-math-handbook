{
 "cells": [
  {
   "cell_type": "markdown",
   "id": "4188d843",
   "metadata": {},
   "source": [
    "Вычисление предела последовательности\n"
   ]
  },
  {
   "cell_type": "code",
   "execution_count": null,
   "id": "25610f5f",
   "metadata": {},
   "outputs": [
    {
     "name": "stdout",
     "output_type": "stream",
     "text": [
      "0.500000\n"
     ]
    }
   ],
   "source": [
    "N = 1\n",
    "a_n = 1.0 - 1.0 / (N + 1)\n",
    "print('%.6f' % a_n)"
   ]
  },
  {
   "cell_type": "markdown",
   "id": "def05051",
   "metadata": {},
   "source": [
    "Проверка непрерывности функции\n"
   ]
  },
  {
   "cell_type": "code",
   "execution_count": null,
   "id": "d9adee10",
   "metadata": {},
   "outputs": [
    {
     "name": "stdout",
     "output_type": "stream",
     "text": [
      "CONTINUOUS\n"
     ]
    }
   ],
   "source": [
    "x_0 = 0\n",
    "sigma = 0.001\n",
    "eps = 5 * sigma\n",
    "\n",
    "# Для работы с стандартным вводом, есть версия в файле calculus.py с использованием eval\n",
    "\n",
    "if abs( abs(x_0 - sigma) - abs(x_0) ) < eps and abs( abs(x_0 + sigma) - abs(x_0) ) < eps:\n",
    "    print('CONTINUOUS')\n",
    "else:\n",
    "    print('DISCONTINUOUS')"
   ]
  }
 ],
 "metadata": {
  "kernelspec": {
   "display_name": "venv",
   "language": "python",
   "name": "python3"
  },
  "language_info": {
   "codemirror_mode": {
    "name": "ipython",
    "version": 3
   },
   "file_extension": ".py",
   "mimetype": "text/x-python",
   "name": "python",
   "nbconvert_exporter": "python",
   "pygments_lexer": "ipython3",
   "version": "3.13.5"
  }
 },
 "nbformat": 4,
 "nbformat_minor": 5
}
